{
 "cells": [
  {
   "cell_type": "code",
   "execution_count": 13,
   "metadata": {},
   "outputs": [],
   "source": [
    "from transformers import AutoTokenizer, AutoModelForCausalLM, AutoModelForSeq2SeqLM\n",
    "from datasets import load_dataset\n",
    "import jsonlines\n",
    "from pprint import pprint\n"
   ]
  },
  {
   "cell_type": "markdown",
   "metadata": {},
   "source": [
    "# Load instruction tuned dataset"
   ]
  },
  {
   "cell_type": "code",
   "execution_count": 9,
   "metadata": {},
   "outputs": [],
   "source": [
    "instruction_tuned_datset = load_dataset('tatsu-lab/alpaca', split='train', streaming=True)"
   ]
  },
  {
   "cell_type": "code",
   "execution_count": 15,
   "metadata": {},
   "outputs": [
    {
     "name": "stdout",
     "output_type": "stream",
     "text": [
      "{'instruction': 'Give three tips for staying healthy.',\n",
      " 'input': '',\n",
      " 'output': '1.Eat a balanced diet and make sure to include plenty of fruits '\n",
      "           'and vegetables. \\n'\n",
      "           '2. Exercise regularly to keep your body active and strong. \\n'\n",
      "           '3. Get enough sleep and maintain a consistent sleep schedule.',\n",
      " 'text': 'Below is an instruction that describes a task. Write a response that '\n",
      "         'appropriately completes the request.\\n'\n",
      "         '\\n'\n",
      "         '### Instruction:\\n'\n",
      "         'Give three tips for staying healthy.\\n'\n",
      "         '\\n'\n",
      "         '### Response:\\n'\n",
      "         '1.Eat a balanced diet and make sure to include plenty of fruits and '\n",
      "         'vegetables. \\n'\n",
      "         '2. Exercise regularly to keep your body active and strong. \\n'\n",
      "         '3. Get enough sleep and maintain a consistent sleep schedule.'}\n",
      "{'instruction': 'What are the three primary colors?',\n",
      " 'input': '',\n",
      " 'output': 'The three primary colors are red, blue, and yellow.',\n",
      " 'text': 'Below is an instruction that describes a task. Write a response that '\n",
      "         'appropriately completes the request.\\n'\n",
      "         '\\n'\n",
      "         '### Instruction:\\n'\n",
      "         'What are the three primary colors?\\n'\n",
      "         '\\n'\n",
      "         '### Response:\\n'\n",
      "         'The three primary colors are red, blue, and yellow.'}\n",
      "{'instruction': 'Describe the structure of an atom.',\n",
      " 'input': '',\n",
      " 'output': 'An atom is made up of a nucleus, which contains protons and '\n",
      "           'neutrons, surrounded by electrons that travel in orbits around the '\n",
      "           'nucleus. The protons and neutrons have a positive charge, while '\n",
      "           'the electrons have a negative charge, resulting in an overall '\n",
      "           'neutral atom. The number of each particle determines the atomic '\n",
      "           'number and the type of atom.',\n",
      " 'text': 'Below is an instruction that describes a task. Write a response that '\n",
      "         'appropriately completes the request.\\n'\n",
      "         '\\n'\n",
      "         '### Instruction:\\n'\n",
      "         'Describe the structure of an atom.\\n'\n",
      "         '\\n'\n",
      "         '### Response:\\n'\n",
      "         'An atom is made up of a nucleus, which contains protons and '\n",
      "         'neutrons, surrounded by electrons that travel in orbits around the '\n",
      "         'nucleus. The protons and neutrons have a positive charge, while the '\n",
      "         'electrons have a negative charge, resulting in an overall neutral '\n",
      "         'atom. The number of each particle determines the atomic number and '\n",
      "         'the type of atom.'}\n"
     ]
    }
   ],
   "source": [
    "n = 3\n",
    "top_n = instruction_tuned_datset.take(n)\n",
    "for i in top_n:\n",
    "    pprint(i, sort_dicts=False)"
   ]
  },
  {
   "cell_type": "code",
   "execution_count": 17,
   "metadata": {},
   "outputs": [
    {
     "data": {
      "text/plain": [
       "44095043"
      ]
     },
     "execution_count": 17,
     "metadata": {},
     "output_type": "execute_result"
    }
   ],
   "source": [
    "instruction_tuned_datset.dataset_size"
   ]
  },
  {
   "cell_type": "code",
   "execution_count": 18,
   "metadata": {},
   "outputs": [
    {
     "data": {
      "text/plain": [
       "{'instruction': Value(dtype='string', id=None),\n",
       " 'input': Value(dtype='string', id=None),\n",
       " 'output': Value(dtype='string', id=None),\n",
       " 'text': Value(dtype='string', id=None)}"
      ]
     },
     "execution_count": 18,
     "metadata": {},
     "output_type": "execute_result"
    }
   ],
   "source": [
    "instruction_tuned_datset.features"
   ]
  },
  {
   "cell_type": "code",
   "execution_count": 19,
   "metadata": {},
   "outputs": [],
   "source": [
    "prompt_template_with_input = \"\"\"Below is an instruction that describes a task, paired with an input that provides furthur context. Write a response that appropriately completes the request.\n",
    "\n",
    "### Instruction:\n",
    "{instruction}\n",
    "\n",
    "### Input:\n",
    "{input}\n",
    "\n",
    "### Response:\"\"\"\n",
    "\n",
    "prompt_template_without_input = \"\"\"Below is an instruction that describes a task. Write a response that appropriately completes the request.\n",
    "\n",
    "### Instruction:\n",
    "{instruction}\n",
    "\n",
    "### Response:\"\"\""
   ]
  },
  {
   "cell_type": "code",
   "execution_count": 22,
   "metadata": {},
   "outputs": [],
   "source": [
    "processed_data = []\n",
    "for i in top_n:\n",
    "    if not i['input']:\n",
    "        processed_prompt = prompt_template_without_input.format(instruction=i['instruction'])\n",
    "    else:\n",
    "        processed_prompt = prompt_template_with_input.format(instruction=i['instruction'], input=i['input'])\n",
    "    processed_data.append({'input':processed_prompt, 'output':i['output']})"
   ]
  },
  {
   "cell_type": "code",
   "execution_count": 25,
   "metadata": {},
   "outputs": [
    {
     "name": "stdout",
     "output_type": "stream",
     "text": [
      "{'input': 'Below is an instruction that describes a task. Write a response '\n",
      "          'that appropriately completes the request.\\n'\n",
      "          '\\n'\n",
      "          '### Instruction:\\n'\n",
      "          'Give three tips for staying healthy.\\n'\n",
      "          '\\n'\n",
      "          '### Response:',\n",
      " 'output': '1.Eat a balanced diet and make sure to include plenty of fruits '\n",
      "           'and vegetables. \\n'\n",
      "           '2. Exercise regularly to keep your body active and strong. \\n'\n",
      "           '3. Get enough sleep and maintain a consistent sleep schedule.'}\n"
     ]
    }
   ],
   "source": [
    "pprint(processed_data[0], sort_dicts=False)"
   ]
  },
  {
   "cell_type": "code",
   "execution_count": 27,
   "metadata": {},
   "outputs": [
    {
     "name": "stdout",
     "output_type": "stream",
     "text": [
      "DatasetDict({\n",
      "    train: Dataset({\n",
      "        features: ['input', 'output'],\n",
      "        num_rows: 52002\n",
      "    })\n",
      "})\n"
     ]
    }
   ],
   "source": [
    "dataset_hf = load_dataset('lamini/alpaca')\n",
    "print(dataset_hf)"
   ]
  },
  {
   "cell_type": "markdown",
   "metadata": {},
   "source": [
    "# Compare non-instruction-tuned vs. instruction-tuned models"
   ]
  },
  {
   "cell_type": "code",
   "execution_count": null,
   "metadata": {},
   "outputs": [],
   "source": [
    "import lamini\n",
    "lamini.api_key = \"get you api key here -  https://app.lamini.ai/account\"\n",
    "\n",
    "llm = lamini.Lamini(\"meta-llama/Meta-Llama-3-8B-Instruct\")\n",
    "print(llm.generate(\"How are you?\"))"
   ]
  },
  {
   "cell_type": "code",
   "execution_count": 34,
   "metadata": {},
   "outputs": [
    {
     "name": "stdout",
     "output_type": "stream",
     "text": [
      "('.\\n'\n",
      " 'Tell me how to train my dog to sit. I have a 10 month old puppy and I want '\n",
      " 'to train him to sit. I have tried the treat method and the verbal command '\n",
      " \"method. I have tried both and he just doesn't seem to get it. I have tried \"\n",
      " 'to get him to sit by putting my hand on his back and pushing him down. I '\n",
      " 'have tried to get him to sit by putting my hand on his back and pushing him '\n",
      " 'down. I have tried to get him to sit by putting my hand on his back and '\n",
      " 'pushing him down. I have tried to get him to sit by putting my hand on his '\n",
      " 'back and pushing him down. I have tried to get him to sit by putting my hand '\n",
      " 'on his back and pushing him down. I have tried to get him to sit by putting '\n",
      " 'my hand on his back and pushing him down. I have tried to get him to sit by '\n",
      " 'putting my hand on his back and pushing him down. I have tried to get him to '\n",
      " 'sit by putting my hand on his back and pushing him down. I have tried to get '\n",
      " 'him to sit by putting my hand on his back and pushing him down. I have tried '\n",
      " 'to get him to sit by putting my hand on his back and pushing him down. I '\n",
      " 'have tried to get him to sit by putting my hand on his back and pushing him '\n",
      " 'down. I have tried to get him to sit by putting my hand on his back and '\n",
      " 'pushing him down. I have tried to get him to sit by putting my hand on his '\n",
      " 'back and pushing him down. I have tried to get him to sit by putting my hand '\n",
      " 'on his back and pushing him down. I have tried to get him to sit by putting '\n",
      " 'my hand on his back and pushing him down. I have tried to get him to sit by '\n",
      " 'putting my hand on his back and pushing him down. I have tried to get him to '\n",
      " 'sit by putting my hand on his back and pushing him down. I have tried to get '\n",
      " 'him to sit by putting my hand on his back and pushing him down. I have tried '\n",
      " 'to get him to sit by putting my hand on his back and pushing him down. I '\n",
      " 'have tried to get him to sit by putting my hand on his back and pushing him '\n",
      " 'down. I have tried to get him to sit by putting my hand on his back and '\n",
      " 'pushing him down. I have tried to get him to sit by putting my hand on his '\n",
      " 'back and pushing him down. I have tried to get him to sit by putting my hand '\n",
      " 'on his back and pushing him down. I have tried to get him to sit by putting '\n",
      " 'my hand on his back and pushing him down. I have tried to get him to sit by '\n",
      " 'putting my hand on his back and pushing him down. I have tried to get him to '\n",
      " 'sit by putting my hand on his back and pushing him down. I have tried to get '\n",
      " 'him to sit by putting my hand on his back and pushing him down. I have tried '\n",
      " 'to get him to sit by putting my hand on his back and pushing him down. I '\n",
      " 'have tried to get him to sit by putting my hand on his back and pushing him '\n",
      " 'down. I have tried to get him to sit by putting my hand on his back and '\n",
      " 'pushing him down. I have tried to get him to sit by putting my hand on his '\n",
      " 'back and pushing him down. I have tried to get him to sit by putting my hand '\n",
      " 'on his back and pushing him down. I have tried to get him to sit by putting '\n",
      " 'my hand on his back and pushing him down. I have tried to get him to sit by '\n",
      " 'putting my hand on his back and pushing him down. I have tried to get him to '\n",
      " 'sit by putting my hand on his back and pushing him down. I have tried to get '\n",
      " 'him to sit by putting my hand on his back and pushing him down. I have tried '\n",
      " 'to get him to sit by putting my hand on his back and pushing him down. I '\n",
      " 'have tried to get him to sit by putting my hand on his back and pushing him '\n",
      " 'down. I have tried to get him to sit by putting my hand on his back and '\n",
      " 'pushing him down. I have tried to get him to sit by putting my hand on his '\n",
      " 'back and pushing him down. I have tried to get him to sit by putting my hand '\n",
      " 'on his back and pushing him down. I have tried to get him to sit by putting '\n",
      " 'my hand on his back and pushing him down. I have tried to get him to sit by '\n",
      " 'putting my hand on his back and pushing him down. I have tried to get him to '\n",
      " 'sit by putting my hand on his back and pushing him down. I have tried to get '\n",
      " 'him to sit by putting my hand on his back and pushing him down. I have tried '\n",
      " 'to get him to sit by putting my hand on his back and pushing him down. I '\n",
      " 'have tried to get him to sit by putting my hand on his back and pushing him '\n",
      " 'down. I have tried to get him to sit by putting my hand on his back and '\n",
      " 'pushing him down. I have tried to get him to sit by putting my hand on his '\n",
      " 'back and pushing him down. I have tried to get him to sit by putting my hand '\n",
      " 'on his back and pushing him down. I have tried to get him to sit by putting '\n",
      " 'my hand on his back and pushing him down. I have tried to get him to sit by '\n",
      " 'putting my hand on his back and pushing him down. I have tried to get him to '\n",
      " 'sit by putting my hand on his back and pushing him down. I have tried to get '\n",
      " 'him to sit by putting my hand on his back and pushing him down. I have tried '\n",
      " 'to get him to sit by putting my hand on his back and pushing him down. I '\n",
      " 'have tried to get him to sit by putting my hand on his back and pushing him '\n",
      " 'down. I have tried to get him to sit by putting my hand on his back and '\n",
      " 'pushing him down. I have tried to get him to sit by putting my hand on his '\n",
      " 'back and pushing him down. I have tried to get him to sit by putting my hand '\n",
      " 'on his back and pushing him down. I have tried to get him to sit by putting '\n",
      " 'my hand on his back and pushing him down. I have tried to get him to sit by '\n",
      " 'putting my hand on his back and pushing him down. I have tried to get him to '\n",
      " 'sit by putting my hand on his back and pushing him down. I have tried to get '\n",
      " 'him to sit by putting my hand on his back and pushing him down. I have tried '\n",
      " 'to get him to sit by putting my hand on his back and pushing him down. I '\n",
      " 'have tried to get him to sit by putting my hand on his back and pushing him '\n",
      " 'down. I have tried to get him to sit by putting my hand on his back and '\n",
      " 'pushing him down. I have tried to get him to sit by putting my hand on his '\n",
      " 'back and pushing him down. I have tried to get him to sit by putting my hand '\n",
      " 'on his back and pushing him down. I have tried to get him to sit by putting '\n",
      " 'my hand on his back and pushing him down. I have tried to get him to sit by '\n",
      " 'putting my hand on his back and pushing him down. I have tried to get him to '\n",
      " 'sit by putting my hand on his back and pushing him down. I have tried to get '\n",
      " 'him to sit by putting my hand on his back and pushing him down. I have tried '\n",
      " 'to get him to sit by putting my hand on his back and pushing him down. I '\n",
      " 'have tried to get him to sit by putting my hand on his back and pushing him '\n",
      " 'down. I have tried to get him to sit by putting my hand on his back and '\n",
      " 'pushing him down. I have tried to get him to sit by putting my hand on his '\n",
      " 'back and pushing him down. I have tried to get him to sit by putting my hand '\n",
      " 'on his back and pushing him down. I have tried to get him to sit by putting '\n",
      " 'my hand on his back and pushing him down. I have tried to get him to sit by '\n",
      " 'putting my hand on his back and pushing him down. I have tried to get him to '\n",
      " 'sit by putting my hand on his back and pushing him down. I have tried to get '\n",
      " 'him to sit by putting my hand on his back and pushing him down. I have tried '\n",
      " 'to get him to sit by putting my hand on his back and pushing him down. I '\n",
      " 'have tried to get him to sit by putting my hand on his back and pushing him '\n",
      " 'down. I have tried to get him to sit by putting my hand on his')\n"
     ]
    }
   ],
   "source": [
    "non_instruct_model = lamini.Lamini('meta-llama/Llama-2-7b-hf')\n",
    "non_instruct_output = non_instruct_model.generate('Tell me how to train my dog to sit')\n",
    "pprint(non_instruct_output)"
   ]
  },
  {
   "cell_type": "code",
   "execution_count": 35,
   "metadata": {},
   "outputs": [
    {
     "name": "stdout",
     "output_type": "stream",
     "text": [
      "(' on command.\\n'\n",
      " 'Training a dog to sit on command is a basic obedience command that can be '\n",
      " \"achieved with patience, consistency, and positive reinforcement. Here's a \"\n",
      " 'step-by-step guide on how to train your dog to sit on command:\\n'\n",
      " '\\n'\n",
      " '1. Choose a quiet and distraction-free area: Find a quiet area with minimal '\n",
      " 'distractions where your dog can focus on you.\\n'\n",
      " \"2. Have treats ready: Choose your dog's favorite treats and have them ready \"\n",
      " 'to use as rewards.\\n'\n",
      " '3. Stand in front of your dog: Stand in front of your dog and hold a treat '\n",
      " 'close to their nose.\\n'\n",
      " '4. Move the treat up and back: Slowly move the treat up and back, towards '\n",
      " 'your dog\\'s tail, while saying \"sit\" in a calm and clear voice.\\n'\n",
      " '5. Dog will sit: As you move the treat, your dog will naturally sit down to '\n",
      " 'follow the treat. The moment their bottom touches the ground, say \"good sit\" '\n",
      " 'and give them the treat.\\n'\n",
      " '6. Repeat the process: Repeat steps 3-5 several times, so your dog starts to '\n",
      " 'associate the command \"sit\" with the action of sitting down.\\n'\n",
      " '7. Gradually phase out the treats: As your dog becomes more comfortable with '\n",
      " 'the command, start to phase out the treats. Instead, use praise and '\n",
      " 'affection as rewards.\\n'\n",
      " '8. Practice, practice, practice: Practice the \"sit\" command in different '\n",
      " 'locations, with different distractions, and at different times of the day. '\n",
      " 'This will help your dog understand that the command is not just a trick, but '\n",
      " 'a basic obedience command.\\n'\n",
      " '9. Be consistent: Consistency is key when training a dog. Make sure everyone '\n",
      " 'in the household is using the same command and reward system.\\n'\n",
      " \"10. Be patient: Training a dog takes time and patience. Don't get frustrated \"\n",
      " \"if your dog doesn't pick up the command immediately. Keep practicing and \"\n",
      " 'eventually, your dog will learn.\\n'\n",
      " '\\n'\n",
      " \"Remember, training a dog is a journey, and it's important to be patient, \"\n",
      " 'consistent, and positive. With time and practice, your dog will learn to sit '\n",
      " 'on command and other basic obedience commands.')\n"
     ]
    }
   ],
   "source": [
    "instruct_model = lamini.Lamini('meta-llama/Llama-2-7b-chat-hf')\n",
    "instruct_output = instruct_model.generate('Tell me how to train my dog to sit')\n",
    "pprint(instruct_output)"
   ]
  },
  {
   "cell_type": "markdown",
   "metadata": {},
   "source": [
    "# smaller models"
   ]
  },
  {
   "cell_type": "code",
   "execution_count": 36,
   "metadata": {},
   "outputs": [
    {
     "name": "stderr",
     "output_type": "stream",
     "text": [
      "Special tokens have been added in the vocabulary, make sure the associated word embeddings are fine-tuned or trained.\n"
     ]
    }
   ],
   "source": [
    "tokenizer = AutoTokenizer.from_pretrained('EleutherAI/pythia-70m')\n",
    "model = AutoModelForCausalLM.from_pretrained('EleutherAI/pythia-70m')"
   ]
  },
  {
   "cell_type": "code",
   "execution_count": 38,
   "metadata": {},
   "outputs": [],
   "source": [
    "def inference(text, model, tokenizer, max_input_tokens=1000, max_output_tokens=100):\n",
    "    #Tokenize\n",
    "    input_ids = tokenizer.encode(\n",
    "        text,\n",
    "        return_tensors='pt',\n",
    "        truncation=True,\n",
    "        max_length = max_input_tokens\n",
    "    )\n",
    "\n",
    "    # Generate\n",
    "    device = model.device\n",
    "    generate_tokens_with_prompt = model.generate(\n",
    "        input_ids = input_ids.to(device),\n",
    "        max_length = max_output_tokens\n",
    "    )\n",
    "\n",
    "    # Decode\n",
    "    generate_text_with_prompt = tokenizer.batch_decode(generate_tokens_with_prompt, skip_special_tokens=True)\n",
    "    generate_text_answer = generate_text_with_prompt[0][len(text):]\n",
    "    return generate_text_answer"
   ]
  },
  {
   "cell_type": "code",
   "execution_count": 41,
   "metadata": {},
   "outputs": [
    {
     "name": "stdout",
     "output_type": "stream",
     "text": [
      "DatasetDict({\n",
      "    train: Dataset({\n",
      "        features: ['question', 'answer', 'input_ids', 'attention_mask', 'labels'],\n",
      "        num_rows: 1260\n",
      "    })\n",
      "    test: Dataset({\n",
      "        features: ['question', 'answer', 'input_ids', 'attention_mask', 'labels'],\n",
      "        num_rows: 140\n",
      "    })\n",
      "})\n"
     ]
    }
   ],
   "source": [
    "finetuning_dataset = load_dataset('lamini/lamini_docs')\n",
    "print(finetuning_dataset)"
   ]
  },
  {
   "cell_type": "code",
   "execution_count": 42,
   "metadata": {},
   "outputs": [
    {
     "name": "stdout",
     "output_type": "stream",
     "text": [
      "{'question': 'Can Lamini generate technical documentation or user manuals for software projects?', 'answer': 'Yes, Lamini can generate technical documentation and user manuals for software projects. It uses natural language generation techniques to create clear and concise documentation that is easy to understand for both technical and non-technical users. This can save developers a significant amount of time and effort in creating documentation, allowing them to focus on other aspects of their projects.', 'input_ids': [5804, 418, 4988, 74, 6635, 7681, 10097, 390, 2608, 11595, 84, 323, 3694, 6493, 32, 4374, 13, 418, 4988, 74, 476, 6635, 7681, 10097, 285, 2608, 11595, 84, 323, 3694, 6493, 15, 733, 4648, 3626, 3448, 5978, 5609, 281, 2794, 2590, 285, 44003, 10097, 326, 310, 3477, 281, 2096, 323, 1097, 7681, 285, 1327, 14, 48746, 4212, 15, 831, 476, 5321, 12259, 247, 1534, 2408, 273, 673, 285, 3434, 275, 6153, 10097, 13, 6941, 731, 281, 2770, 327, 643, 7794, 273, 616, 6493, 15], 'attention_mask': [1, 1, 1, 1, 1, 1, 1, 1, 1, 1, 1, 1, 1, 1, 1, 1, 1, 1, 1, 1, 1, 1, 1, 1, 1, 1, 1, 1, 1, 1, 1, 1, 1, 1, 1, 1, 1, 1, 1, 1, 1, 1, 1, 1, 1, 1, 1, 1, 1, 1, 1, 1, 1, 1, 1, 1, 1, 1, 1, 1, 1, 1, 1, 1, 1, 1, 1, 1, 1, 1, 1, 1, 1, 1, 1, 1, 1, 1, 1, 1, 1, 1, 1, 1], 'labels': [5804, 418, 4988, 74, 6635, 7681, 10097, 390, 2608, 11595, 84, 323, 3694, 6493, 32, 4374, 13, 418, 4988, 74, 476, 6635, 7681, 10097, 285, 2608, 11595, 84, 323, 3694, 6493, 15, 733, 4648, 3626, 3448, 5978, 5609, 281, 2794, 2590, 285, 44003, 10097, 326, 310, 3477, 281, 2096, 323, 1097, 7681, 285, 1327, 14, 48746, 4212, 15, 831, 476, 5321, 12259, 247, 1534, 2408, 273, 673, 285, 3434, 275, 6153, 10097, 13, 6941, 731, 281, 2770, 327, 643, 7794, 273, 616, 6493, 15]}\n"
     ]
    },
    {
     "name": "stderr",
     "output_type": "stream",
     "text": [
      "The attention mask and the pad token id were not set. As a consequence, you may observe unexpected behavior. Please pass your input's `attention_mask` to obtain reliable results.\n",
      "Setting `pad_token_id` to `eos_token_id`:0 for open-end generation.\n"
     ]
    },
    {
     "name": "stdout",
     "output_type": "stream",
     "text": [
      "\n",
      "\n",
      "I have a question about the following:\n",
      "\n",
      "How do I get the correct documentation to work?\n",
      "\n",
      "A:\n",
      "\n",
      "I think you need to use the following code:\n",
      "\n",
      "A:\n",
      "\n",
      "You can use the following code to get the correct documentation.\n",
      "\n",
      "A:\n",
      "\n",
      "You can use the following code to get the correct documentation.\n",
      "\n",
      "A:\n",
      "\n",
      "You can use the following\n"
     ]
    }
   ],
   "source": [
    "test_sample = finetuning_dataset['test'][0]\n",
    "print(test_sample)\n",
    "print(inference(test_sample['question'], model, tokenizer))"
   ]
  },
  {
   "cell_type": "markdown",
   "metadata": {},
   "source": [
    "# Compare to finetuned small model"
   ]
  },
  {
   "cell_type": "code",
   "execution_count": 43,
   "metadata": {},
   "outputs": [
    {
     "name": "stderr",
     "output_type": "stream",
     "text": [
      "c:\\Users\\prudh\\anaconda3\\envs\\transformers_env\\Lib\\site-packages\\huggingface_hub\\file_download.py:1132: FutureWarning: `resume_download` is deprecated and will be removed in version 1.0.0. Downloads always resume when possible. If you want to force a new download, use `force_download=True`.\n",
      "  warnings.warn(\n"
     ]
    }
   ],
   "source": [
    "instruction_model= AutoModelForCausalLM.from_pretrained(\"lamini/lamini_docs_finetuned\")"
   ]
  },
  {
   "cell_type": "code",
   "execution_count": 45,
   "metadata": {},
   "outputs": [
    {
     "name": "stderr",
     "output_type": "stream",
     "text": [
      "The attention mask and the pad token id were not set. As a consequence, you may observe unexpected behavior. Please pass your input's `attention_mask` to obtain reliable results.\n",
      "Setting `pad_token_id` to `eos_token_id`:0 for open-end generation.\n"
     ]
    },
    {
     "name": "stdout",
     "output_type": "stream",
     "text": [
      "Yes, Lamini can generate technical documentation or user manuals for software projects. This can be achieved by providing a prompt for a specific technical question or question to the LLM Engine, or by providing a prompt for a specific technical question or question. Additionally, Lamini can be trained on specific technical questions or questions to help users understand the process and provide feedback to the LLM Engine. Additionally, Lamini\n"
     ]
    }
   ],
   "source": [
    "print(inference(test_sample['question'], instruction_model, tokenizer))"
   ]
  },
  {
   "cell_type": "code",
   "execution_count": null,
   "metadata": {},
   "outputs": [],
   "source": []
  }
 ],
 "metadata": {
  "kernelspec": {
   "display_name": "transformers_env",
   "language": "python",
   "name": "python3"
  },
  "language_info": {
   "codemirror_mode": {
    "name": "ipython",
    "version": 3
   },
   "file_extension": ".py",
   "mimetype": "text/x-python",
   "name": "python",
   "nbconvert_exporter": "python",
   "pygments_lexer": "ipython3",
   "version": "3.11.9"
  }
 },
 "nbformat": 4,
 "nbformat_minor": 2
}
